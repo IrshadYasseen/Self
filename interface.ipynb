{
 "cells": [
  {
   "cell_type": "code",
   "execution_count": 1,
   "metadata": {},
   "outputs": [],
   "source": [
    "import gradio as gr"
   ]
  },
  {
   "cell_type": "code",
   "execution_count": 2,
   "metadata": {},
   "outputs": [
    {
     "name": "stdout",
     "output_type": "stream",
     "text": [
      "Running on local URL:  http://127.0.0.1:7860\n",
      "\n",
      "To create a public link, set `share=True` in `launch()`.\n"
     ]
    },
    {
     "data": {
      "text/html": [
       "<div><iframe src=\"http://127.0.0.1:7860/\" width=\"100%\" height=\"500\" allow=\"autoplay; camera; microphone; clipboard-read; clipboard-write;\" frameborder=\"0\" allowfullscreen></iframe></div>"
      ],
      "text/plain": [
       "<IPython.core.display.HTML object>"
      ]
     },
     "metadata": {},
     "output_type": "display_data"
    },
    {
     "data": {
      "text/plain": []
     },
     "execution_count": 2,
     "metadata": {},
     "output_type": "execute_result"
    }
   ],
   "source": [
    "def intf(nme):\n",
    "    return(\"welcome \"+nme )\n",
    "ifs=gr.Interface(fn=intf,inputs=\"text\",outputs=\"text\")\n",
    "ifs.launch()"
   ]
  },
  {
   "cell_type": "markdown",
   "metadata": {},
   "source": [
    "---"
   ]
  },
  {
   "cell_type": "code",
   "execution_count": 3,
   "metadata": {},
   "outputs": [
    {
     "name": "stdout",
     "output_type": "stream",
     "text": [
      "WARNING:tensorflow:From c:\\Users\\Irshad Yasseen A\\anaconda3\\Lib\\site-packages\\keras\\src\\losses.py:2976: The name tf.losses.sparse_softmax_cross_entropy is deprecated. Please use tf.compat.v1.losses.sparse_softmax_cross_entropy instead.\n",
      "\n"
     ]
    }
   ],
   "source": [
    "import  numpy as np\n",
    "import  librosa\n",
    "from tensorflow.keras.models import load_model\n",
    "import  librosa\n",
    "import gradio as gr\n",
    "import matplotlib.pyplot as plt \n",
    "import seaborn as sns"
   ]
  },
  {
   "cell_type": "code",
   "execution_count": 4,
   "metadata": {},
   "outputs": [],
   "source": [
    "def fe(file):\n",
    "    n=128\n",
    "    a,s=librosa.load(file);\n",
    "    m= librosa.feature.mfcc(y=a, sr=s, n_mfcc=n)\n",
    "    mfc_mean=np.mean(m.T,axis=0)\n",
    "    mfc_mean=mfc_mean.reshape(1,n)\n",
    "    mody=load_model('D:/Vs/Model/Ann11.h5')\n",
    "    p=mody.predict(mfc_mean)[0]\n",
    "    return(p)"
   ]
  },
  {
   "cell_type": "code",
   "execution_count": 5,
   "metadata": {},
   "outputs": [
    {
     "name": "stdout",
     "output_type": "stream",
     "text": [
      "WARNING:tensorflow:From c:\\Users\\Irshad Yasseen A\\anaconda3\\Lib\\site-packages\\keras\\src\\backend.py:1398: The name tf.executing_eagerly_outside_functions is deprecated. Please use tf.compat.v1.executing_eagerly_outside_functions instead.\n",
      "\n",
      "1/1 [==============================] - 0s 210ms/step\n"
     ]
    },
    {
     "data": {
      "text/plain": [
       "<Axes: >"
      ]
     },
     "execution_count": 5,
     "metadata": {},
     "output_type": "execute_result"
    }
   ],
   "source": [
    "sns.barplot(x=['Bronchiectasis', 'Bronchiolitis', 'COPD', 'Healthy', 'Pneumonia', 'URTI'],\n",
    "            y=fe(r\"d:\\Vs\\lung\\Audio Files\\EP17_COPD,E W,A R M,57,M.wav\"))"
   ]
  },
  {
   "cell_type": "code",
   "execution_count": 6,
   "metadata": {},
   "outputs": [
    {
     "name": "stdout",
     "output_type": "stream",
     "text": [
      "1/1 [==============================] - 0s 92ms/step\n"
     ]
    },
    {
     "data": {
      "text/plain": [
       "'COPD'"
      ]
     },
     "execution_count": 6,
     "metadata": {},
     "output_type": "execute_result"
    }
   ],
   "source": [
    "p=fe(r\"d:\\Vs\\lung\\Audio Files\\EP17_COPD,E W,A R M,57,M.wav\")\n",
    "c=0\n",
    "for i in p:\n",
    "    if i == p.max():\n",
    "        break\n",
    "    c+=1\n",
    "classes = ['Bronchiectasis', 'Bronchiolitis', 'COPD', 'Healthy', 'Pneumonia', 'URTI']\n",
    "classes[c]"
   ]
  },
  {
   "cell_type": "code",
   "execution_count": 7,
   "metadata": {},
   "outputs": [
    {
     "name": "stdout",
     "output_type": "stream",
     "text": [
      "Running on local URL:  http://127.0.0.1:7861\n",
      "\n",
      "To create a public link, set `share=True` in `launch()`.\n"
     ]
    },
    {
     "data": {
      "text/html": [
       "<div><iframe src=\"http://127.0.0.1:7861/\" width=\"100%\" height=\"500\" allow=\"autoplay; camera; microphone; clipboard-read; clipboard-write;\" frameborder=\"0\" allowfullscreen></iframe></div>"
      ],
      "text/plain": [
       "<IPython.core.display.HTML object>"
      ]
     },
     "metadata": {},
     "output_type": "display_data"
    },
    {
     "data": {
      "text/plain": []
     },
     "execution_count": 7,
     "metadata": {},
     "output_type": "execute_result"
    }
   ],
   "source": [
    "# Load the pre-trained model\n",
    "\n",
    "\n",
    "def fe(data):\n",
    "    if isinstance(data, str):  # Check if the data is already a file path\n",
    "        file_path = data\n",
    "    elif isinstance(data, tuple):  # Check if the data is a tuple (Gradio format)\n",
    "        file_path = data[0]\n",
    "    else:\n",
    "        raise ValueError(\"Unexpected data format\")\n",
    "    print(\"22\")\n",
    "    # Load audio file\n",
    "    a, s = librosa.load(file_path)\n",
    "    m = librosa.feature.mfcc(y=a, sr=s, n_mfcc=128)\n",
    "    mfc_mean = np.mean(m.T, axis=0)\n",
    "    mfc_mean = mfc_mean.reshape(1, 128)\n",
    "    prediction = model.predict(mfc_mean)[0]\n",
    "    c=0\n",
    "    \n",
    "    for i in prediction:\n",
    "        if i == p.max():\n",
    "            break\n",
    "        c+=1\n",
    "    \n",
    "    \n",
    "\n",
    "    # Plot the prediction as a Seaborn bar plot\n",
    "    classes = ['Bronchiectasis', 'Bronchiolitis', 'COPD', 'Healthy', 'Pneumonia', 'URTI']\n",
    "  #  mx=index(max(prediction))\n",
    "   #    sns.set(style=\"whitegrid\")\n",
    "   # plt.figure(figsize=(8, 5))\n",
    "   # ax = sns.barplot(x=classes, y=prediction)\n",
    "   # ax.set_ylabel(\"Probability\")\n",
    "   # ax.set_title(\"Class Probabilities\")\n",
    "\n",
    "   \n",
    "    print(\"11\")\n",
    "    # Return the path to the saved image\n",
    "    return classes[i]\n",
    "\n",
    "# Gradio Interface\n",
    "iface = gr.Interface(fn=fe, inputs=\"audio\", outputs=\"text\")\n",
    "iface.launch()\n"
   ]
  },
  {
   "cell_type": "code",
   "execution_count": 8,
   "metadata": {},
   "outputs": [
    {
     "ename": "NameError",
     "evalue": "name 'prediction' is not defined",
     "output_type": "error",
     "traceback": [
      "\u001b[1;31m---------------------------------------------------------------------------\u001b[0m",
      "\u001b[1;31mNameError\u001b[0m                                 Traceback (most recent call last)",
      "Cell \u001b[1;32mIn[8], line 1\u001b[0m\n\u001b[1;32m----> 1\u001b[0m \u001b[38;5;28mprint\u001b[39m(prediction)\n",
      "\u001b[1;31mNameError\u001b[0m: name 'prediction' is not defined"
     ]
    },
    {
     "ename": "",
     "evalue": "",
     "output_type": "error",
     "traceback": [
      "\u001b[1;31mThe Kernel crashed while executing code in the current cell or a previous cell. \n",
      "\u001b[1;31mPlease review the code in the cell(s) to identify a possible cause of the failure. \n",
      "\u001b[1;31mClick <a href='https://aka.ms/vscodeJupyterKernelCrash'>here</a> for more info. \n",
      "\u001b[1;31mView Jupyter <a href='command:jupyter.viewOutput'>log</a> for further details."
     ]
    }
   ],
   "source": [
    "print(prediction)"
   ]
  }
 ],
 "metadata": {
  "kernelspec": {
   "display_name": "base",
   "language": "python",
   "name": "python3"
  },
  "language_info": {
   "codemirror_mode": {
    "name": "ipython",
    "version": 3
   },
   "file_extension": ".py",
   "mimetype": "text/x-python",
   "name": "python",
   "nbconvert_exporter": "python",
   "pygments_lexer": "ipython3",
   "version": "3.11.3"
  }
 },
 "nbformat": 4,
 "nbformat_minor": 2
}
